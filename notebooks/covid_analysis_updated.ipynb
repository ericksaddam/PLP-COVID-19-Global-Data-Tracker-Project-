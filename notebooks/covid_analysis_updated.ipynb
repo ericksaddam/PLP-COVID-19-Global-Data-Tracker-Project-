{
 "cells": [
  {
   "cell_type": "markdown",
   "metadata": {},
   "source": [
    "# COVID-19 Global Data Analysis\n",
    "\n",
    "This notebook analyzes global COVID-19 trends using data from Our World in Data."
   ]
  },
  {
   "cell_type": "markdown",
   "metadata": {},
   "source": [
    "## 1. Setup and Data Loading\n",
    "\n",
    "First, let's import our analysis module and required libraries."
   ]
  },
  {
   "cell_type": "code",
   "execution_count": null,
   "metadata": {},
   "source": [
    "import pandas as pd\n",
    "import matplotlib.pyplot as plt\n",
    "import seaborn as sns\n",
    "import plotly.express as px\n",
    "import numpy as np\n",
    "from datetime import datetime, timedelta\n",
    "\n",
    "# Import our analysis module\n",
    "from covid_analysis import *\n",
    "\n",
    "# Set style for better visualizations\n",
    "plt.style.use('seaborn-v0_8')\n",
    "sns.set_theme(style=\"whitegrid\", palette=\"husl\")\n",
    "plt.rcParams['figure.facecolor'] = 'white'\n",
    "plt.rcParams['axes.facecolor'] = 'white'\n",
    "plt.rcParams['font.size'] = 10\n",
    "plt.rcParams['axes.titlesize'] = 14\n",
    "plt.rcParams['axes.labelsize'] = 12"
   ]
  },
  {
   "cell_type": "markdown",
   "metadata": {},
   "source": [
    "## 2. Load and Clean Data\n",
    "\n",
    "Let's load and clean our dataset using the functions from our analysis module."
   ]
  },
  {
   "cell_type": "code",
   "execution_count": null,
   "metadata": {},
   "source": [
    "# Load the dataset\n",
    "df = load_data()\n",
    "\n",
    "# Clean the data\n",
    "df_clean = clean_data(df)\n",
    "\n",
    "print('Dataset Info:')\n",
    "df_clean.info()"
   ]
  },
  {
   "cell_type": "markdown",
   "metadata": {},
   "source": [
    "## 3. Global Trends Analysis\n",
    "\n",
    "Analyze global trends in cases and deaths."
   ]
  },
  {
   "cell_type": "code",
   "execution_count": null,
   "metadata": {},
   "source": [
    "# Analyze global trends\n",
    "global_trends = analyze_global_trends(df_clean)\n",
    "\n",
    "# Plot global trends\n",
    "plot_global_trends(global_trends)"
   ]
  },
  {
   "cell_type": "markdown",
   "metadata": {},
   "source": [
    "## 4. Top Countries Analysis\n",
    "\n",
    "Analyze countries with highest cases and deaths."
   ]
  },
  {
   "cell_type": "code",
   "execution_count": null,
   "metadata": {},
   "source": [
    "# Analyze top countries by total cases\n",
    "top_countries_cases = analyze_top_countries(df_clean, metric='total_cases', n=10)\n",
    "plot_top_countries(top_countries_cases)\n",
    "\n",
    "print('\\nTop Countries by Total Cases:')\n",
    "display(top_countries_cases)"
   ]
  },
  {
   "cell_type": "markdown",
   "metadata": {},
   "source": [
    "## 5. Vaccination Progress\n",
    "\n",
    "Analyze vaccination progress across countries."
   ]
  },
  {
   "cell_type": "code",
   "execution_count": null,
   "metadata": {},
   "source": [
    "# Analyze vaccination progress\n",
    "vax_progress = analyze_vaccination_progress(df_clean)\n",
    "plot_vaccination_progress(vax_progress)\n",
    "\n",
    "print('\\nVaccination Progress (Top 10 Countries):')\n",
    "display(vax_progress.head(10))"
   ]
  },
  {
   "cell_type": "markdown",
   "metadata": {},
   "source": [
    "## 6. Interactive Visualizations\n",
    "\n",
    "Create interactive plots using Plotly."
   ]
  },
  {
   "cell_type": "code",
   "execution_count": null,
   "metadata": {},
   "source": [
    "# Create interactive time series plot\n",
    "fig = px.line(global_trends, \n",
    "              x='date', \n",
    "              y=['cases_7day_avg', 'deaths_7day_avg'],\n",
    "              title='Global COVID-19 Trends (7-day Moving Average)',\n",
    "              labels={\n",
    "                  'date': 'Date',\n",
    "                  'value': 'Count',\n",
    "                  'variable': 'Metric'\n",
    "              })\n",
    "fig.show()"
   ]
  }
 ],
 "metadata": {
  "kernelspec": {
   "display_name": "Python 3",
   "language": "python",
   "name": "python3"
  },
  "language_info": {
   "codemirror_mode": {
    "name": "ipython",
    "version": 3
   },
   "file_extension": ".py",
   "mimetype": "text/x-python",
   "name": "python",
   "nbconvert_exporter": "python",
   "pygments_lexer": "ipython3",
   "version": "3.11.0"
  }
 },
 "nbformat": 4,
 "nbformat_minor": 4
}
